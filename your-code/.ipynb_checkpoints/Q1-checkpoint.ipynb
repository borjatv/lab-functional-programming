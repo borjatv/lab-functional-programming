{
 "cells": [
  {
   "cell_type": "markdown",
   "metadata": {},
   "source": [
    "In the cell below, create a Python function that wraps your previous solution for the Bag of Words lab.\n",
    "\n",
    "Requirements:\n",
    "\n",
    "1. Your function should accept the following parameters:\n",
    "    * `docs` [REQUIRED] - array of document paths.\n",
    "    * `stop_words` [OPTIONAL] - array of stop words. The default value is an empty array.\n",
    "\n",
    "1. Your function should return a Python object that contains the following:\n",
    "    * `bag_of_words` - array of strings of normalized unique words in the corpus.\n",
    "    * `term_freq` - array of the term-frequency vectors."
   ]
  },
  {
   "cell_type": "code",
   "execution_count": 7,
   "metadata": {},
   "outputs": [],
   "source": [
    "# Import required libraries\n",
    "\n",
    "# Define function\n",
    "def get_bow_from_docs(docs, stop_words=[]):\n",
    "    \n",
    "    # In the function, first define the variables you will use such as `corpus`, `bag_of_words`, and `term_freq`.\n",
    "    \n",
    "    corpus = []\n",
    "    bag_of_words = []\n",
    "    term_freq = []\n",
    "    \n",
    "    \"\"\"\n",
    "    Loop `docs` and read the content of each doc into a string in `corpus`.\n",
    "    Remember to convert the doc content to lowercases and remove punctuation.\n",
    "    \"\"\"\n",
    "    \n",
    "    for x in docs:\n",
    "        with open(x, 'r') as f:\n",
    "            corpus.append(f.read())\n",
    "    \n",
    "    corpus = [a.replace(',','').replace('.','').replace(':','').replace(';','').lower() for a in corpus]\n",
    "    \n",
    "    \n",
    "    \"\"\"\n",
    "    Loop `corpus`. Append the terms in each doc into the `bag_of_words` array. The terms in `bag_of_words` \n",
    "    should be unique which means before adding each term you need to check if it's already added to the array.\n",
    "    In addition, check if each term is in the `stop_words` array. Only append the term to `bag_of_words`\n",
    "    if it is not a stop word.\n",
    "    \"\"\"\n",
    "\n",
    "    for x in corpus:\n",
    "        a = x.split()\n",
    "        for y in a:\n",
    "            if y not in bag_of_words and y not in stop_words:\n",
    "                bag_of_words.append(y)    \n",
    "    \n",
    "    \"\"\"\n",
    "    Loop `corpus` again. For each doc string, count the number of occurrences of each term in `bag_of_words`. \n",
    "    Create an array for each doc's term frequency and append it to `term_freq`.\n",
    "    \"\"\"\n",
    "    \n",
    "    phrases = []\n",
    "    for x in corpus:\n",
    "        phrases.append(x.split())\n",
    "    \n",
    "    for p in phrases:\n",
    "        eachlist = []\n",
    "        for b in bag_of_words:\n",
    "            eachlist.append(p.count(b))\n",
    "    \n",
    "        term_freq.append(eachlist)\n",
    "    \n",
    "    # Now return your output as an object\n",
    "    return {\n",
    "        \"bag_of_words\": bag_of_words,\n",
    "        \"term_freq\": term_freq\n",
    "    }\n",
    "    "
   ]
  },
  {
   "cell_type": "markdown",
   "metadata": {},
   "source": [
    "Test your function without stop words. You should see the output like below:\n",
    "\n",
    "```{'bag_of_words': ['ironhack', 'is', 'cool', 'i', 'love', 'am', 'a', 'student', 'at'], 'term_freq': [[1, 1, 1, 0, 0, 0, 0, 0, 0], [1, 0, 0, 1, 1, 0, 0, 0, 0], [1, 0, 0, 1, 0, 1, 1, 1, 1]]}```"
   ]
  },
  {
   "cell_type": "code",
   "execution_count": 9,
   "metadata": {},
   "outputs": [
    {
     "name": "stdout",
     "output_type": "stream",
     "text": [
      "{'bag_of_words': ['ironhack', 'is', 'cool', 'i', 'love', 'am', 'a', 'student', 'at'], 'term_freq': [[1, 1, 1, 0, 0, 0, 0, 0, 0], [1, 0, 0, 1, 1, 0, 0, 0, 0], [1, 0, 0, 1, 0, 1, 1, 1, 1]]}\n"
     ]
    }
   ],
   "source": [
    "# Define doc paths array\n",
    "url = '../../09-lab-string-operations/your-code/'\n",
    "\n",
    "\n",
    "docs = [url+'doc1.txt', url+'doc2.txt', url+'doc3.txt']\n",
    "\n",
    "# Obtain BoW from your function\n",
    "bow = get_bow_from_docs(docs)\n",
    "\n",
    "# Print BoW\n",
    "print(bow)"
   ]
  },
  {
   "cell_type": "markdown",
   "metadata": {},
   "source": [
    "If your attempt above is successful, nice work done!\n",
    "\n",
    "Now test your function again with the stop words. In the previous lab we defined the stop words in a large array. In this lab, we'll import the stop words from Scikit-Learn."
   ]
  },
  {
   "cell_type": "code",
   "execution_count": 10,
   "metadata": {},
   "outputs": [
    {
     "name": "stdout",
     "output_type": "stream",
     "text": [
      "frozenset({'nothing', 'on', 'along', 'been', 'because', 'something', 'nevertheless', 'next', 'herself', 'while', 'and', 'besides', 'ourselves', 'sometime', 'con', 'myself', 'yours', 'formerly', 'becoming', 'may', 'beforehand', 'or', 'whereafter', 'except', 'others', 'between', 'last', 'found', 'became', 'that', 'whom', 'from', 'perhaps', 'detail', 'back', 'nine', 'move', 'after', 'who', 'you', 'keep', 'thus', 'wherein', 'un', 'of', 'mine', 'so', 'whenever', 'fill', 'de', 'about', 'herein', 'made', 'put', 'seems', 'fifty', 'too', 'alone', 'onto', 'toward', 'itself', 'become', 'nobody', 'elsewhere', 'therein', 'with', 'bill', 'not', 'other', 'serious', 'although', 'am', 'few', 'cry', 'ever', 'we', 'must', 'very', 'least', 'cant', 'full', 'please', 'across', 'they', 'be', 'out', 'cannot', 'do', 'i', 'again', 'top', 'into', 'off', 'himself', 'together', 'mill', 'otherwise', 'get', 'though', 'both', 'an', 'beyond', 'throughout', 'somewhere', 'hereafter', 'by', 'themselves', 'wherever', 'our', 'this', 'own', 'above', 'would', 'however', 'should', 'then', 'some', 'everywhere', 'until', 'whole', 'one', 'thru', 'around', 'to', 'via', 'becomes', 'give', 'therefore', 'he', 'hasnt', 'over', 'thereupon', 'many', 'within', 'namely', 'those', 'also', 'afterwards', 'at', 'thence', 'latterly', 'find', 'as', 'noone', 'eg', 'less', 'sometimes', 'each', 'five', 'are', 'either', 'thick', 'can', 'without', 'against', 'anyway', 'eleven', 'seem', 'among', 'whether', 'here', 'much', 'describe', 'my', 'up', 'former', 'will', 'twenty', 'neither', 'in', 'almost', 'could', 'already', 'hence', 'side', 'a', 'but', 'see', 'him', 'four', 'such', 'still', 'thin', 'might', 'since', 'indeed', 'once', 'interest', 'take', 'anything', 'if', 'nowhere', 'third', 'co', 'now', 'go', 'show', 'often', 'someone', 'else', 'under', 'system', 'whatever', 'whence', 'most', 'well', 'more', 'even', 'another', 'only', 'no', 'through', 'when', 'bottom', 'them', 'several', 'below', 'hereupon', 'amount', 'anywhere', 'hereby', 'inc', 'amongst', 'etc', 'during', 'towards', 'hers', 're', 'meanwhile', 'whose', 'further', 'yourselves', 'due', 'which', 'amoungst', 'whoever', 'the', 'were', 'than', 'hundred', 'whereas', 'six', 'whither', 'its', 'sincere', 'it', 'mostly', 'behind', 'these', 'what', 'every', 'thereby', 'everything', 'moreover', 'two', 'your', 'whereupon', 'seeming', 'why', 'had', 'ltd', 'twelve', 'empty', 'part', 'yet', 'ours', 'there', 'yourself', 'nor', 'she', 'always', 'us', 'seemed', 'me', 'before', 'fifteen', 'first', 'front', 'was', 'how', 'done', 'never', 'same', 'per', 'anyone', 'three', 'call', 'ie', 'rather', 'sixty', 'upon', 'for', 'none', 'everyone', 'ten', 'anyhow', 'has', 'fire', 'all', 'any', 'couldnt', 'his', 'somehow', 'their', 'name', 'being', 'her', 'eight', 'beside', 'down', 'where', 'enough', 'is', 'forty', 'thereafter', 'have', 'whereby', 'latter'})\n"
     ]
    },
    {
     "name": "stderr",
     "output_type": "stream",
     "text": [
      "/Users/borjatv/opt/anaconda3/lib/python3.8/site-packages/sklearn/utils/deprecation.py:143: FutureWarning: The sklearn.feature_extraction.stop_words module is  deprecated in version 0.22 and will be removed in version 0.24. The corresponding classes / functions should instead be imported from sklearn.feature_extraction.text. Anything that cannot be imported from sklearn.feature_extraction.text is now part of the private API.\n",
      "  warnings.warn(message, FutureWarning)\n"
     ]
    }
   ],
   "source": [
    "from sklearn.feature_extraction import stop_words\n",
    "print(stop_words.ENGLISH_STOP_WORDS)"
   ]
  },
  {
   "cell_type": "markdown",
   "metadata": {},
   "source": [
    "You should have seen a large list of words that looks like:\n",
    "\n",
    "```frozenset({'across', 'mine', 'cannot', ...})```\n",
    "\n",
    "`frozenset` is a type of Python object that is immutable. In this lab you can use it just like an array without conversion."
   ]
  },
  {
   "cell_type": "markdown",
   "metadata": {},
   "source": [
    "Next, test your function with supplying `stop_words.ENGLISH_STOP_WORDS` as the second parameter."
   ]
  },
  {
   "cell_type": "code",
   "execution_count": 11,
   "metadata": {},
   "outputs": [
    {
     "name": "stdout",
     "output_type": "stream",
     "text": [
      "{'bag_of_words': ['ironhack', 'cool', 'love', 'student'], 'term_freq': [[1, 1, 0, 0], [1, 0, 1, 0], [1, 0, 0, 1]]}\n"
     ]
    }
   ],
   "source": [
    "bow = get_bow_from_docs(docs, stop_words.ENGLISH_STOP_WORDS)\n",
    "\n",
    "print(bow)"
   ]
  },
  {
   "cell_type": "markdown",
   "metadata": {},
   "source": [
    "You should have seen:\n",
    "\n",
    "```{'bag_of_words': ['ironhack', 'cool', 'love', 'student'], 'term_freq': [[1, 1, 0, 0], [1, 0, 1, 0], [1, 0, 0, 1]]}```"
   ]
  }
 ],
 "metadata": {
  "kernelspec": {
   "display_name": "Python 3",
   "language": "python",
   "name": "python3"
  },
  "language_info": {
   "codemirror_mode": {
    "name": "ipython",
    "version": 3
   },
   "file_extension": ".py",
   "mimetype": "text/x-python",
   "name": "python",
   "nbconvert_exporter": "python",
   "pygments_lexer": "ipython3",
   "version": "3.8.5"
  },
  "toc": {
   "base_numbering": 1,
   "nav_menu": {},
   "number_sections": true,
   "sideBar": true,
   "skip_h1_title": false,
   "title_cell": "Table of Contents",
   "title_sidebar": "Contents",
   "toc_cell": false,
   "toc_position": {},
   "toc_section_display": true,
   "toc_window_display": false
  },
  "varInspector": {
   "cols": {
    "lenName": 16,
    "lenType": 16,
    "lenVar": 40
   },
   "kernels_config": {
    "python": {
     "delete_cmd_postfix": "",
     "delete_cmd_prefix": "del ",
     "library": "var_list.py",
     "varRefreshCmd": "print(var_dic_list())"
    },
    "r": {
     "delete_cmd_postfix": ") ",
     "delete_cmd_prefix": "rm(",
     "library": "var_list.r",
     "varRefreshCmd": "cat(var_dic_list()) "
    }
   },
   "types_to_exclude": [
    "module",
    "function",
    "builtin_function_or_method",
    "instance",
    "_Feature"
   ],
   "window_display": false
  }
 },
 "nbformat": 4,
 "nbformat_minor": 2
}
